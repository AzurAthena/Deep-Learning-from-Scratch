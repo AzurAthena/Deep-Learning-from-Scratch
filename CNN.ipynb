{
 "cells": [
  {
   "cell_type": "markdown",
   "metadata": {},
   "source": [
    "## Create data"
   ]
  },
  {
   "cell_type": "code",
   "execution_count": 1,
   "metadata": {},
   "outputs": [],
   "source": [
    "import numpy as np"
   ]
  },
  {
   "cell_type": "markdown",
   "metadata": {},
   "source": [
    "input image"
   ]
  },
  {
   "cell_type": "code",
   "execution_count": 58,
   "metadata": {},
   "outputs": [],
   "source": [
    "X = [\n",
    "    [ \n",
    "     [2, 1, 0, 0, 2], \n",
    "     [1, 1, 0, 1, 1], \n",
    "     [1, 2, 2, 1, 0], \n",
    "     [0, 0, 2, 0, 0], \n",
    "     [1, 0, 1, 0, 1]], \n",
    "    [\n",
    "     [2, 2, 1, 2, 1], \n",
    "     [1, 2, 1, 0, 2], \n",
    "     [0, 1, 1, 0, 2], \n",
    "     [0, 2, 1, 2, 2], \n",
    "     [0, 1, 0, 1, 2]], \n",
    "    [\n",
    "     [0, 2, 0, 2, 1], \n",
    "     [0, 2, 2, 1, 1], \n",
    "     [1, 0, 1, 2, 0], \n",
    "     [1, 0, 1, 2, 0], \n",
    "     [0, 0, 0, 0, 0]]\n",
    "]"
   ]
  },
  {
   "cell_type": "code",
   "execution_count": 59,
   "metadata": {},
   "outputs": [
    {
     "data": {
      "text/plain": [
       "(1, 3, 5, 5)"
      ]
     },
     "execution_count": 59,
     "metadata": {},
     "output_type": "execute_result"
    }
   ],
   "source": [
    "X = np.array([X])\n",
    "X.shape"
   ]
  },
  {
   "cell_type": "markdown",
   "metadata": {},
   "source": [
    "filters"
   ]
  },
  {
   "cell_type": "code",
   "execution_count": 60,
   "metadata": {},
   "outputs": [
    {
     "data": {
      "text/plain": [
       "(3, 3, 3)"
      ]
     },
     "execution_count": 60,
     "metadata": {},
     "output_type": "execute_result"
    }
   ],
   "source": [
    "W0 = [\n",
    "    [[1, 0, -1], \n",
    "     [1, 1, -1], \n",
    "     [0, 0, -1]], \n",
    "    [[0, 0, 1], \n",
    "     [1, 1, 0], \n",
    "     [0, 0, 0]], \n",
    "    [[-1, 1, 0], \n",
    "     [0, 0, 0], \n",
    "     [0, -1, 0]]\n",
    "]\n",
    "W0 = np.array(W0)\n",
    "W0.shape"
   ]
  },
  {
   "cell_type": "code",
   "execution_count": 61,
   "metadata": {},
   "outputs": [
    {
     "data": {
      "text/plain": [
       "(3, 3, 3)"
      ]
     },
     "execution_count": 61,
     "metadata": {},
     "output_type": "execute_result"
    }
   ],
   "source": [
    "W1 = [\n",
    "    [[-1, 0, -1], \n",
    "     [1, 0, 0], \n",
    "     [1, 0, 1]], \n",
    "    [[-1, 1, 0], \n",
    "     [1, 1, 0], \n",
    "     [-1, 0, 1]], \n",
    "    [[-1, 1, 1], \n",
    "     [-1, -1, 0], \n",
    "     [0, 1, 1]]\n",
    "]\n",
    "W1 = np.array(W1)\n",
    "W1.shape"
   ]
  },
  {
   "cell_type": "code",
   "execution_count": 108,
   "metadata": {},
   "outputs": [
    {
     "data": {
      "text/plain": [
       "(2, 3, 3, 3)"
      ]
     },
     "execution_count": 108,
     "metadata": {},
     "output_type": "execute_result"
    }
   ],
   "source": [
    "W = [list(W0), list(W1)]\n",
    "W = np.array(W)\n",
    "W.shape"
   ]
  },
  {
   "cell_type": "markdown",
   "metadata": {},
   "source": [
    "## Hyper parameters"
   ]
  },
  {
   "cell_type": "code",
   "execution_count": 106,
   "metadata": {},
   "outputs": [],
   "source": [
    "S = 2 # stride\n",
    "P = 1 # zero padding\n",
    "W_size = 5 # input size\n",
    "K = 2 # number of filters\n",
    "F_size = 3 # filter size"
   ]
  },
  {
   "cell_type": "code",
   "execution_count": 107,
   "metadata": {},
   "outputs": [],
   "source": [
    "# Bias\n",
    "B1 = 1\n",
    "B2 = 0"
   ]
  },
  {
   "cell_type": "markdown",
   "metadata": {},
   "source": [
    "Calculate output shape"
   ]
  },
  {
   "cell_type": "code",
   "execution_count": 114,
   "metadata": {},
   "outputs": [
    {
     "data": {
      "text/plain": [
       "(3, 3)"
      ]
     },
     "execution_count": 114,
     "metadata": {},
     "output_type": "execute_result"
    }
   ],
   "source": [
    "n_filters, d_filter, h_filter, w_filter = W.shape\n",
    "n_x, d_x, h_x, w_x = X.shape\n",
    "\n",
    "h_out = (h_x - h_filter + 2 * P) / S + 1\n",
    "w_out = (w_x - w_filter + 2 * P) / S + 1\n",
    "h_out, w_out = int(h_out), int(w_out)\n",
    "\n",
    "h_out, w_out"
   ]
  },
  {
   "cell_type": "code",
   "execution_count": null,
   "metadata": {},
   "outputs": [],
   "source": [
    "def get_im2col_indices(x_shape, field_height, field_width, padding=1, stride=1):\n",
    "  # First figure out what the size of the output should be\n",
    "  N, C, H, W = x_shape\n",
    "  assert (H + 2 * padding - field_height) % stride == 0\n",
    "  assert (W + 2 * padding - field_height) % stride == 0\n",
    "  out_height = (H + 2 * padding - field_height) / stride + 1\n",
    "  out_width = (W + 2 * padding - field_width) / stride + 1\n",
    "  \n",
    "  out_height, out_width = int(out_height), int(out_width)\n",
    "  i0 = np.repeat(np.arange(field_height), field_width)\n",
    "  i0 = np.tile(i0, C)\n",
    "  i1 = stride * np.repeat(np.arange(out_height), out_width)\n",
    "  j0 = np.tile(np.arange(field_width), field_height * C)\n",
    "  \n",
    "  j1 = stride * np.tile(np.arange(out_width), out_height)\n",
    "  i = i0.reshape(-1, 1) + i1.reshape(1, -1)\n",
    "  j = j0.reshape(-1, 1) + j1.reshape(1, -1)\n",
    "\n",
    "  k = np.repeat(np.arange(C), field_height * field_width).reshape(-1, 1)\n",
    "\n",
    "  return (k, i, j)\n",
    "\n",
    "def im2col_indices(x, field_height, field_width, padding=1, stride=1):\n",
    "  \"\"\" An implementation of im2col based on some fancy indexing \"\"\"\n",
    "  # Zero-pad the input\n",
    "  p = padding\n",
    "  x_padded = np.pad(x, ((0, 0), (0, 0), (p, p), (p, p)), mode='constant')\n",
    "\n",
    "  k, i, j = get_im2col_indices(x.shape, field_height, field_width, padding,\n",
    "                               stride)\n",
    "\n",
    "  cols = x_padded[:, k, i, j]\n",
    "  C = x.shape[1]\n",
    "  cols = cols.transpose(1, 2, 0).reshape(field_height * field_width * C, -1)\n",
    "  return cols"
   ]
  },
  {
   "cell_type": "markdown",
   "metadata": {},
   "source": [
    "Reshape X and W to apply convolution without using loops"
   ]
  },
  {
   "cell_type": "code",
   "execution_count": 111,
   "metadata": {},
   "outputs": [
    {
     "data": {
      "text/plain": [
       "(27, 9)"
      ]
     },
     "execution_count": 111,
     "metadata": {},
     "output_type": "execute_result"
    }
   ],
   "source": [
    "X_col = im2col_indices(X, 3, 3, P, S)\n",
    "X_col.shape"
   ]
  },
  {
   "cell_type": "code",
   "execution_count": 122,
   "metadata": {},
   "outputs": [
    {
     "data": {
      "text/plain": [
       "array([[0, 0, 0, 0, 1, 1, 0, 0, 0],\n",
       "       [0, 0, 0, 1, 0, 1, 0, 2, 0],\n",
       "       [0, 0, 0, 1, 1, 0, 0, 0, 0],\n",
       "       [0, 1, 0, 0, 2, 1, 0, 0, 0],\n",
       "       [2, 0, 2, 1, 2, 0, 1, 1, 1],\n",
       "       [1, 0, 0, 2, 1, 0, 0, 0, 0],\n",
       "       [0, 1, 1, 0, 0, 0, 0, 0, 0],\n",
       "       [1, 0, 1, 0, 2, 0, 0, 0, 0],\n",
       "       [1, 1, 0, 0, 0, 0, 0, 0, 0],\n",
       "       [0, 0, 0, 0, 2, 0, 0, 2, 2],\n",
       "       [0, 0, 0, 1, 1, 2, 0, 1, 2],\n",
       "       [0, 0, 0, 2, 0, 0, 2, 2, 0],\n",
       "       [0, 2, 2, 0, 1, 0, 0, 1, 1],\n",
       "       [2, 1, 1, 0, 1, 2, 0, 0, 2],\n",
       "       [2, 2, 0, 1, 0, 0, 1, 1, 0],\n",
       "       [0, 2, 0, 0, 2, 2, 0, 0, 0],\n",
       "       [1, 1, 2, 0, 1, 2, 0, 0, 0],\n",
       "       [2, 0, 0, 2, 2, 0, 0, 0, 0],\n",
       "       [0, 0, 0, 0, 2, 1, 0, 0, 2],\n",
       "       [0, 0, 0, 0, 2, 1, 1, 1, 0],\n",
       "       [0, 0, 0, 2, 1, 0, 0, 2, 0],\n",
       "       [0, 2, 2, 0, 0, 2, 0, 0, 0],\n",
       "       [0, 0, 1, 1, 1, 0, 0, 0, 0],\n",
       "       [2, 2, 0, 0, 2, 0, 0, 0, 0],\n",
       "       [0, 2, 1, 0, 0, 2, 0, 0, 0],\n",
       "       [0, 2, 1, 1, 1, 0, 0, 0, 0],\n",
       "       [2, 1, 0, 0, 2, 0, 0, 0, 0]])"
      ]
     },
     "execution_count": 122,
     "metadata": {},
     "output_type": "execute_result"
    }
   ],
   "source": [
    "X_col"
   ]
  },
  {
   "cell_type": "code",
   "execution_count": 121,
   "metadata": {},
   "outputs": [
    {
     "data": {
      "text/plain": [
       "(array([[ 1,  0, -1,  1,  1, -1,  0,  0, -1,  0,  0,  1,  1,  1,  0,  0,  0,\n",
       "          0, -1,  1,  0,  0,  0,  0,  0, -1,  0],\n",
       "        [-1,  0, -1,  1,  0,  0,  1,  0,  1, -1,  1,  0,  1,  1,  0, -1,  0,\n",
       "          1, -1,  1,  1, -1, -1,  0,  0,  1,  1]]), (2, 27))"
      ]
     },
     "execution_count": 121,
     "metadata": {},
     "output_type": "execute_result"
    }
   ],
   "source": [
    "W_col = W.reshape(K, -1)\n",
    "W_col, W_col.shape"
   ]
  },
  {
   "cell_type": "markdown",
   "metadata": {},
   "source": [
    "### Convolution output"
   ]
  },
  {
   "cell_type": "code",
   "execution_count": 113,
   "metadata": {},
   "outputs": [
    {
     "data": {
      "text/plain": [
       "array([[ 2,  1,  4, -1,  4,  4,  4,  5,  2],\n",
       "       [ 7,  5,  2,  4,  4,  0,  1,  3,  1]])"
      ]
     },
     "execution_count": 113,
     "metadata": {},
     "output_type": "execute_result"
    }
   ],
   "source": [
    "out = W_col @ X_col\n",
    "out"
   ]
  },
  {
   "cell_type": "code",
   "execution_count": 117,
   "metadata": {},
   "outputs": [
    {
     "data": {
      "text/plain": [
       "array([[[[ 2,  1,  4],\n",
       "         [-1,  4,  4],\n",
       "         [ 4,  5,  2]],\n",
       "\n",
       "        [[ 7,  5,  2],\n",
       "         [ 4,  4,  0],\n",
       "         [ 1,  3,  1]]]])"
      ]
     },
     "execution_count": 117,
     "metadata": {},
     "output_type": "execute_result"
    }
   ],
   "source": [
    "out = W_col @ X_col\n",
    "out = out.reshape(n_x, n_filters, h_out, w_out)\n",
    "out"
   ]
  },
  {
   "cell_type": "code",
   "execution_count": null,
   "metadata": {},
   "outputs": [],
   "source": []
  }
 ],
 "metadata": {
  "kernelspec": {
   "display_name": "Python 3",
   "language": "python",
   "name": "python3"
  },
  "language_info": {
   "codemirror_mode": {
    "name": "ipython",
    "version": 3
   },
   "file_extension": ".py",
   "mimetype": "text/x-python",
   "name": "python",
   "nbconvert_exporter": "python",
   "pygments_lexer": "ipython3",
   "version": "3.6.3"
  }
 },
 "nbformat": 4,
 "nbformat_minor": 2
}
