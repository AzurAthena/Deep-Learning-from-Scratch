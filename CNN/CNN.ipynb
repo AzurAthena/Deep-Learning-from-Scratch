{
 "cells": [
  {
   "cell_type": "markdown",
   "metadata": {},
   "source": [
    "# Understanding CNNs better"
   ]
  },
  {
   "cell_type": "markdown",
   "metadata": {},
   "source": [
    "1. Number of parameters per filter/neuron\n",
    "2. Calculating Output size"
   ]
  },
  {
   "cell_type": "markdown",
   "metadata": {},
   "source": [
    "## Create data"
   ]
  },
  {
   "cell_type": "code",
   "execution_count": 1,
   "metadata": {
    "collapsed": true
   },
   "outputs": [],
   "source": [
    "import numpy as np"
   ]
  },
  {
   "cell_type": "markdown",
   "metadata": {},
   "source": [
    "#### input image\n",
    "3D image of shape (3, 5, 5)"
   ]
  },
  {
   "cell_type": "code",
   "execution_count": 2,
   "metadata": {
    "collapsed": true
   },
   "outputs": [],
   "source": [
    "X = [\n",
    "    [ \n",
    "     [2, 1, 0, 0, 2], \n",
    "     [1, 1, 0, 1, 1], \n",
    "     [1, 2, 2, 1, 0], \n",
    "     [0, 0, 2, 0, 0], \n",
    "     [1, 0, 1, 0, 1]], \n",
    "    [\n",
    "     [2, 2, 1, 2, 1], \n",
    "     [1, 2, 1, 0, 2], \n",
    "     [0, 1, 1, 0, 2], \n",
    "     [0, 2, 1, 2, 2], \n",
    "     [0, 1, 0, 1, 2]], \n",
    "    [\n",
    "     [0, 2, 0, 2, 1], \n",
    "     [0, 2, 2, 1, 1], \n",
    "     [1, 0, 1, 2, 0], \n",
    "     [1, 0, 1, 2, 0], \n",
    "     [0, 0, 0, 0, 0]]\n",
    "]"
   ]
  },
  {
   "cell_type": "code",
   "execution_count": 3,
   "metadata": {
    "scrolled": false
   },
   "outputs": [
    {
     "data": {
      "text/plain": [
       "(1, 3, 5, 5)"
      ]
     },
     "execution_count": 3,
     "metadata": {},
     "output_type": "execute_result"
    }
   ],
   "source": [
    "X = np.array([X])\n",
    "X.shape"
   ]
  },
  {
   "cell_type": "markdown",
   "metadata": {
    "collapsed": true
   },
   "source": []
  },
  {
   "cell_type": "markdown",
   "metadata": {},
   "source": [
    "### Understanding filter shapes"
   ]
  },
  {
   "cell_type": "markdown",
   "metadata": {},
   "source": [
    "#### Applying filters of size (3 * 3)\n",
    "Each filter connects to (3 x 3) section of the image across the 3 channels therefore -> filter shape (3 x 3 x 3)"
   ]
  },
  {
   "cell_type": "markdown",
   "metadata": {
    "collapsed": true
   },
   "source": []
  },
  {
   "cell_type": "markdown",
   "metadata": {},
   "source": [
    "## Number of parameters per filter"
   ]
  },
  {
   "cell_type": "markdown",
   "metadata": {},
   "source": [
    "A filter of size = 3, applied to an input having 3 channels would have:\n",
    "<br/>\n",
    "3 x 3 x 3 = 27 parameters + 1 bias"
   ]
  },
  {
   "cell_type": "markdown",
   "metadata": {
    "collapsed": true
   },
   "source": []
  },
  {
   "cell_type": "markdown",
   "metadata": {},
   "source": [
    "### Create filters"
   ]
  },
  {
   "cell_type": "code",
   "execution_count": 4,
   "metadata": {},
   "outputs": [
    {
     "data": {
      "text/plain": [
       "(3, 3, 3)"
      ]
     },
     "execution_count": 4,
     "metadata": {},
     "output_type": "execute_result"
    }
   ],
   "source": [
    "# filter 1\n",
    "W0 = [\n",
    "    [[1, 0, -1], \n",
    "     [1, 1, -1], \n",
    "     [0, 0, -1]], \n",
    "    [[0, 0, 1], \n",
    "     [1, 1, 0], \n",
    "     [0, 0, 0]], \n",
    "    [[-1, 1, 0], \n",
    "     [0, 0, 0], \n",
    "     [0, -1, 0]]\n",
    "]\n",
    "W0 = np.array(W0)\n",
    "W0.shape"
   ]
  },
  {
   "cell_type": "code",
   "execution_count": 5,
   "metadata": {},
   "outputs": [
    {
     "data": {
      "text/plain": [
       "(3, 3, 3)"
      ]
     },
     "execution_count": 5,
     "metadata": {},
     "output_type": "execute_result"
    }
   ],
   "source": [
    "# filter 2\n",
    "W1 = [\n",
    "    [[-1, 0, -1], \n",
    "     [1, 0, 0], \n",
    "     [1, 0, 1]], \n",
    "    [[-1, 1, 0], \n",
    "     [1, 1, 0], \n",
    "     [-1, 0, 1]], \n",
    "    [[-1, 1, 1], \n",
    "     [-1, -1, 0], \n",
    "     [0, 1, 1]]\n",
    "]\n",
    "W1 = np.array(W1)\n",
    "W1.shape"
   ]
  },
  {
   "cell_type": "code",
   "execution_count": 6,
   "metadata": {},
   "outputs": [
    {
     "data": {
      "text/plain": [
       "(2, 3, 3, 3)"
      ]
     },
     "execution_count": 6,
     "metadata": {},
     "output_type": "execute_result"
    }
   ],
   "source": [
    "W = [list(W0), list(W1)]\n",
    "W = np.array(W)\n",
    "W.shape"
   ]
  },
  {
   "cell_type": "markdown",
   "metadata": {},
   "source": [
    "These are the two filters that will be applied to X"
   ]
  },
  {
   "cell_type": "markdown",
   "metadata": {
    "collapsed": true
   },
   "source": []
  },
  {
   "cell_type": "markdown",
   "metadata": {},
   "source": [
    "## Hyper parameters"
   ]
  },
  {
   "cell_type": "code",
   "execution_count": 7,
   "metadata": {
    "collapsed": true
   },
   "outputs": [],
   "source": [
    "S = 2 # stride\n",
    "P = 1 # zero padding\n",
    "W_size = 5 # input size\n",
    "K = 2 # number of filters\n",
    "F_size = 3 # filter size"
   ]
  },
  {
   "cell_type": "code",
   "execution_count": 8,
   "metadata": {
    "collapsed": true
   },
   "outputs": [],
   "source": [
    "# Bias\n",
    "B1 = 1\n",
    "B2 = 0"
   ]
  },
  {
   "cell_type": "markdown",
   "metadata": {},
   "source": []
  },
  {
   "cell_type": "markdown",
   "metadata": {},
   "source": [
    "CNN Layout based on hyper parameters\n",
    "<img src=\"../images/CNN_full.PNG\">"
   ]
  },
  {
   "cell_type": "markdown",
   "metadata": {},
   "source": [
    "Clearly:\n",
    "    > To traverse X horizontally, filter is applied 3 times\n",
    "    > To traverse X vertically, filter is applied 3 times\n",
    "    \n",
    "    Each time filter is applied to a region of X (across all channels), it produces 1 output value. Thus total (3 x 3) output values are created after traversing full X.\n",
    "    \n",
    "    > The same process is repeated for all filters. Thus, for two filters output shape = (2 x 3 x 3)"
   ]
  },
  {
   "cell_type": "markdown",
   "metadata": {
    "collapsed": true
   },
   "source": []
  },
  {
   "cell_type": "markdown",
   "metadata": {},
   "source": [
    "## Calculate output shape (formula)\n",
    "\n",
    "output size (O) = (W-F+2P)/S + 1"
   ]
  },
  {
   "cell_type": "code",
   "execution_count": 9,
   "metadata": {},
   "outputs": [
    {
     "data": {
      "text/plain": [
       "(3, 3)"
      ]
     },
     "execution_count": 9,
     "metadata": {},
     "output_type": "execute_result"
    }
   ],
   "source": [
    "# get filters shape\n",
    "n_filters, d_filter, h_filter, w_filter = W.shape\n",
    "\n",
    "# get input shape\n",
    "n_x, d_x, h_x, w_x = X.shape\n",
    "\n",
    "# calculate the output shapes\n",
    "h_out = (h_x - h_filter + 2 * P) / S + 1\n",
    "w_out = (w_x - w_filter + 2 * P) / S + 1\n",
    "h_out, w_out = int(h_out), int(w_out)\n",
    "\n",
    "# output height, width\n",
    "h_out, w_out"
   ]
  },
  {
   "cell_type": "markdown",
   "metadata": {},
   "source": [
    "By applying 2 filters -> output shape will be (2 x 3 x 3)"
   ]
  },
  {
   "cell_type": "markdown",
   "metadata": {},
   "source": []
  },
  {
   "cell_type": "markdown",
   "metadata": {},
   "source": [
    "## Applying filter W1 to X:\n",
    "\n",
    "<img src=\"../images/CNN.PNG\">"
   ]
  },
  {
   "cell_type": "markdown",
   "metadata": {},
   "source": []
  },
  {
   "cell_type": "markdown",
   "metadata": {},
   "source": [
    "## Understanding how the output O is calculated"
   ]
  },
  {
   "cell_type": "markdown",
   "metadata": {},
   "source": [
    "Applying filter W1 to region of X (Calculation of O1,1 value):\n",
    "<img src=\"../images/CNN1.PNG\">"
   ]
  },
  {
   "cell_type": "markdown",
   "metadata": {},
   "source": [
    "The same operation can be simplified by reshaping the region of X and filter W:\n",
    "\n",
    "Reshaped form of the above  operation:\n",
    "<img src=\"../images/CNN2.PNG\">\n"
   ]
  },
  {
   "cell_type": "markdown",
   "metadata": {
    "collapsed": true
   },
   "source": []
  },
  {
   "cell_type": "markdown",
   "metadata": {},
   "source": [
    "select the top 3 x 3 section of X (including all 3 channels) "
   ]
  },
  {
   "cell_type": "code",
   "execution_count": 10,
   "metadata": {},
   "outputs": [
    {
     "data": {
      "text/plain": [
       "array([[[[0, 0, 0, 0, 0, 0, 0],\n",
       "         [0, 2, 1, 0, 0, 2, 0],\n",
       "         [0, 1, 1, 0, 1, 1, 0],\n",
       "         [0, 1, 2, 2, 1, 0, 0],\n",
       "         [0, 0, 0, 2, 0, 0, 0],\n",
       "         [0, 1, 0, 1, 0, 1, 0],\n",
       "         [0, 0, 0, 0, 0, 0, 0]],\n",
       "\n",
       "        [[0, 0, 0, 0, 0, 0, 0],\n",
       "         [0, 2, 2, 1, 2, 1, 0],\n",
       "         [0, 1, 2, 1, 0, 2, 0],\n",
       "         [0, 0, 1, 1, 0, 2, 0],\n",
       "         [0, 0, 2, 1, 2, 2, 0],\n",
       "         [0, 0, 1, 0, 1, 2, 0],\n",
       "         [0, 0, 0, 0, 0, 0, 0]],\n",
       "\n",
       "        [[0, 0, 0, 0, 0, 0, 0],\n",
       "         [0, 0, 2, 0, 2, 1, 0],\n",
       "         [0, 0, 2, 2, 1, 1, 0],\n",
       "         [0, 1, 0, 1, 2, 0, 0],\n",
       "         [0, 1, 0, 1, 2, 0, 0],\n",
       "         [0, 0, 0, 0, 0, 0, 0],\n",
       "         [0, 0, 0, 0, 0, 0, 0]]]])"
      ]
     },
     "execution_count": 10,
     "metadata": {},
     "output_type": "execute_result"
    }
   ],
   "source": [
    "X_padded = np.pad(X, ((0, 0), (0, 0), (P, P), (P, P)), mode='constant')\n",
    "X_padded"
   ]
  },
  {
   "cell_type": "code",
   "execution_count": 11,
   "metadata": {},
   "outputs": [
    {
     "data": {
      "text/plain": [
       "(array([[[0, 0, 0],\n",
       "         [0, 2, 1],\n",
       "         [0, 1, 1]],\n",
       " \n",
       "        [[0, 0, 0],\n",
       "         [0, 2, 2],\n",
       "         [0, 1, 2]],\n",
       " \n",
       "        [[0, 0, 0],\n",
       "         [0, 0, 2],\n",
       "         [0, 0, 2]]]), (3, 3, 3))"
      ]
     },
     "execution_count": 11,
     "metadata": {},
     "output_type": "execute_result"
    }
   ],
   "source": [
    "X_crop = X_padded[0][:, :3, :3]\n",
    "X_crop, X_crop.shape"
   ]
  },
  {
   "cell_type": "code",
   "execution_count": 12,
   "metadata": {
    "scrolled": true
   },
   "outputs": [
    {
     "data": {
      "text/plain": [
       "array([[ 1,  0, -1],\n",
       "       [ 1,  1, -1],\n",
       "       [ 0,  0, -1]])"
      ]
     },
     "execution_count": 12,
     "metadata": {},
     "output_type": "execute_result"
    }
   ],
   "source": [
    "W0[0]"
   ]
  },
  {
   "cell_type": "code",
   "execution_count": 13,
   "metadata": {},
   "outputs": [
    {
     "data": {
      "text/plain": [
       "array([ 1,  0, -1,  1,  1, -1,  0,  0, -1])"
      ]
     },
     "execution_count": 13,
     "metadata": {},
     "output_type": "execute_result"
    }
   ],
   "source": [
    "W0[0].ravel()"
   ]
  },
  {
   "cell_type": "code",
   "execution_count": 14,
   "metadata": {
    "scrolled": true
   },
   "outputs": [
    {
     "data": {
      "text/plain": [
       "0"
      ]
     },
     "execution_count": 14,
     "metadata": {},
     "output_type": "execute_result"
    }
   ],
   "source": [
    "# select channels 0 of X crop and apply the first filter W0 (channel 0)\n",
    "X_crop[0].ravel().dot(W0[0].ravel())"
   ]
  },
  {
   "cell_type": "code",
   "execution_count": 15,
   "metadata": {
    "scrolled": false
   },
   "outputs": [
    {
     "data": {
      "text/plain": [
       "2"
      ]
     },
     "execution_count": 15,
     "metadata": {},
     "output_type": "execute_result"
    }
   ],
   "source": [
    "# Repeat this for each channel of X and W\n",
    "\n",
    "X_crop[0].ravel().dot(W0[0].ravel()) + X_crop[1].ravel().dot(W0[1].ravel()) + X_crop[2].ravel().dot(W0[2].ravel())"
   ]
  },
  {
   "cell_type": "markdown",
   "metadata": {},
   "source": []
  },
  {
   "cell_type": "markdown",
   "metadata": {},
   "source": [
    "### Applying filter to every region of X may require loops, but loops can slow down the process.\n",
    "\n",
    "This can be avoided by reshaping X and W as shown above based on the region selections"
   ]
  },
  {
   "cell_type": "markdown",
   "metadata": {},
   "source": [
    "Final output after applying first filter to X:\n",
    "<img src=\"../images/CNN_out.PNG\">\n"
   ]
  },
  {
   "cell_type": "markdown",
   "metadata": {},
   "source": [
    "<img src=\"../images/CNN_reshaped.PNG\">"
   ]
  },
  {
   "cell_type": "markdown",
   "metadata": {
    "collapsed": true
   },
   "source": []
  },
  {
   "cell_type": "markdown",
   "metadata": {},
   "source": [
    "## Applying Convolution to entire X"
   ]
  },
  {
   "cell_type": "code",
   "execution_count": 16,
   "metadata": {
    "collapsed": true
   },
   "outputs": [],
   "source": [
    "def get_im2col_indices(x_shape, field_height, field_width, padding=1, stride=1):\n",
    "  # First figure out what the size of the output should be\n",
    "  N, C, H, W = x_shape\n",
    "  assert (H + 2 * padding - field_height) % stride == 0\n",
    "  assert (W + 2 * padding - field_height) % stride == 0\n",
    "  out_height = (H + 2 * padding - field_height) / stride + 1\n",
    "  out_width = (W + 2 * padding - field_width) / stride + 1\n",
    "  \n",
    "  out_height, out_width = int(out_height), int(out_width)\n",
    "  i0 = np.repeat(np.arange(field_height), field_width)\n",
    "  i0 = np.tile(i0, C)\n",
    "  i1 = stride * np.repeat(np.arange(out_height), out_width)\n",
    "  j0 = np.tile(np.arange(field_width), field_height * C)\n",
    "  \n",
    "  j1 = stride * np.tile(np.arange(out_width), out_height)\n",
    "  i = i0.reshape(-1, 1) + i1.reshape(1, -1)\n",
    "  j = j0.reshape(-1, 1) + j1.reshape(1, -1)\n",
    "\n",
    "  k = np.repeat(np.arange(C), field_height * field_width).reshape(-1, 1)\n",
    "\n",
    "  return (k, i, j)\n",
    "\n",
    "def im2col_indices(x, field_height, field_width, padding=1, stride=1):\n",
    "  \"\"\" An implementation of im2col based on some fancy indexing \"\"\"\n",
    "  # Zero-pad the input\n",
    "  p = padding\n",
    "  x_padded = np.pad(x, ((0, 0), (0, 0), (p, p), (p, p)), mode='constant')\n",
    "\n",
    "  k, i, j = get_im2col_indices(x.shape, field_height, field_width, padding,\n",
    "                               stride)\n",
    "\n",
    "  cols = x_padded[:, k, i, j]\n",
    "  C = x.shape[1]\n",
    "  cols = cols.transpose(1, 2, 0).reshape(field_height * field_width * C, -1)\n",
    "  return cols"
   ]
  },
  {
   "cell_type": "markdown",
   "metadata": {},
   "source": [
    "Reshape X and W to apply convolution without using loops"
   ]
  },
  {
   "cell_type": "code",
   "execution_count": 17,
   "metadata": {},
   "outputs": [
    {
     "data": {
      "text/plain": [
       "(27, 9)"
      ]
     },
     "execution_count": 17,
     "metadata": {},
     "output_type": "execute_result"
    }
   ],
   "source": [
    "X_col = im2col_indices(X, 3, 3, P, S)\n",
    "X_col.shape"
   ]
  },
  {
   "cell_type": "code",
   "execution_count": 18,
   "metadata": {},
   "outputs": [
    {
     "data": {
      "text/plain": [
       "array([[0, 0, 0, 0, 1, 1, 0, 0, 0],\n",
       "       [0, 0, 0, 1, 0, 1, 0, 2, 0],\n",
       "       [0, 0, 0, 1, 1, 0, 0, 0, 0],\n",
       "       [0, 1, 0, 0, 2, 1, 0, 0, 0],\n",
       "       [2, 0, 2, 1, 2, 0, 1, 1, 1],\n",
       "       [1, 0, 0, 2, 1, 0, 0, 0, 0],\n",
       "       [0, 1, 1, 0, 0, 0, 0, 0, 0],\n",
       "       [1, 0, 1, 0, 2, 0, 0, 0, 0],\n",
       "       [1, 1, 0, 0, 0, 0, 0, 0, 0],\n",
       "       [0, 0, 0, 0, 2, 0, 0, 2, 2],\n",
       "       [0, 0, 0, 1, 1, 2, 0, 1, 2],\n",
       "       [0, 0, 0, 2, 0, 0, 2, 2, 0],\n",
       "       [0, 2, 2, 0, 1, 0, 0, 1, 1],\n",
       "       [2, 1, 1, 0, 1, 2, 0, 0, 2],\n",
       "       [2, 2, 0, 1, 0, 0, 1, 1, 0],\n",
       "       [0, 2, 0, 0, 2, 2, 0, 0, 0],\n",
       "       [1, 1, 2, 0, 1, 2, 0, 0, 0],\n",
       "       [2, 0, 0, 2, 2, 0, 0, 0, 0],\n",
       "       [0, 0, 0, 0, 2, 1, 0, 0, 2],\n",
       "       [0, 0, 0, 0, 2, 1, 1, 1, 0],\n",
       "       [0, 0, 0, 2, 1, 0, 0, 2, 0],\n",
       "       [0, 2, 2, 0, 0, 2, 0, 0, 0],\n",
       "       [0, 0, 1, 1, 1, 0, 0, 0, 0],\n",
       "       [2, 2, 0, 0, 2, 0, 0, 0, 0],\n",
       "       [0, 2, 1, 0, 0, 2, 0, 0, 0],\n",
       "       [0, 2, 1, 1, 1, 0, 0, 0, 0],\n",
       "       [2, 1, 0, 0, 2, 0, 0, 0, 0]])"
      ]
     },
     "execution_count": 18,
     "metadata": {},
     "output_type": "execute_result"
    }
   ],
   "source": [
    "X_col"
   ]
  },
  {
   "cell_type": "code",
   "execution_count": 19,
   "metadata": {},
   "outputs": [
    {
     "data": {
      "text/plain": [
       "(array([[ 1,  0, -1,  1,  1, -1,  0,  0, -1,  0,  0,  1,  1,  1,  0,  0,  0,\n",
       "          0, -1,  1,  0,  0,  0,  0,  0, -1,  0],\n",
       "        [-1,  0, -1,  1,  0,  0,  1,  0,  1, -1,  1,  0,  1,  1,  0, -1,  0,\n",
       "          1, -1,  1,  1, -1, -1,  0,  0,  1,  1]]), (2, 27))"
      ]
     },
     "execution_count": 19,
     "metadata": {},
     "output_type": "execute_result"
    }
   ],
   "source": [
    "W_col = W.reshape(K, -1)\n",
    "W_col, W_col.shape"
   ]
  },
  {
   "cell_type": "markdown",
   "metadata": {},
   "source": [
    "### Convolution output"
   ]
  },
  {
   "cell_type": "code",
   "execution_count": 20,
   "metadata": {},
   "outputs": [
    {
     "data": {
      "text/plain": [
       "array([[ 2,  1,  4, -1,  4,  4,  4,  5,  2],\n",
       "       [ 7,  5,  2,  4,  4,  0,  1,  3,  1]])"
      ]
     },
     "execution_count": 20,
     "metadata": {},
     "output_type": "execute_result"
    }
   ],
   "source": [
    "out = W_col @ X_col\n",
    "out"
   ]
  },
  {
   "cell_type": "code",
   "execution_count": 21,
   "metadata": {},
   "outputs": [
    {
     "data": {
      "text/plain": [
       "array([[[[ 2,  1,  4],\n",
       "         [-1,  4,  4],\n",
       "         [ 4,  5,  2]],\n",
       "\n",
       "        [[ 7,  5,  2],\n",
       "         [ 4,  4,  0],\n",
       "         [ 1,  3,  1]]]])"
      ]
     },
     "execution_count": 21,
     "metadata": {},
     "output_type": "execute_result"
    }
   ],
   "source": [
    "out = W_col @ X_col\n",
    "out = out.reshape(n_x, n_filters, h_out, w_out)\n",
    "out"
   ]
  }
 ],
 "metadata": {
  "kernelspec": {
   "display_name": "Python 3",
   "language": "python",
   "name": "python3"
  },
  "language_info": {
   "codemirror_mode": {
    "name": "ipython",
    "version": 3
   },
   "file_extension": ".py",
   "mimetype": "text/x-python",
   "name": "python",
   "nbconvert_exporter": "python",
   "pygments_lexer": "ipython3",
   "version": "3.6.3"
  }
 },
 "nbformat": 4,
 "nbformat_minor": 2
}
